{
 "cells": [
  {
   "cell_type": "markdown",
   "metadata": {},
   "source": [
    "# core\n",
    "\n",
    "> Fill in a module description here"
   ]
  },
  {
   "cell_type": "code",
   "execution_count": null,
   "metadata": {},
   "outputs": [],
   "source": [
    "#| default_exp core"
   ]
  },
  {
   "cell_type": "code",
   "execution_count": null,
   "metadata": {},
   "outputs": [],
   "source": [
    "#|export\n",
    "from ghapi.all import GhApi\n",
    "import requests, os\n",
    "from fastcore.all import call_parse"
   ]
  },
  {
   "cell_type": "code",
   "execution_count": null,
   "metadata": {},
   "outputs": [],
   "source": [
    "#|export\n",
    "def get_id(owner,repo,pull_number):\n",
    "    \"Get the node id of the PR\"\n",
    "    api = GhApi(owner, repo)\n",
    "    pr = api.pulls.get(pull_number)\n",
    "    return pr.node_id"
   ]
  },
  {
   "cell_type": "markdown",
   "metadata": {},
   "source": [
    "You can get the node id (which is used in graphql like this):"
   ]
  },
  {
   "cell_type": "code",
   "execution_count": null,
   "metadata": {},
   "outputs": [
    {
     "data": {
      "text/plain": [
       "'PR_kwDOJKp2GM5MReJZ'"
      ]
     },
     "execution_count": null,
     "metadata": {},
     "output_type": "execute_result"
    }
   ],
   "source": [
    "#|eval: false\n",
    "get_id('hamelsmu', 'lewinb', 3)"
   ]
  },
  {
   "cell_type": "code",
   "execution_count": null,
   "metadata": {},
   "outputs": [],
   "source": [
    "assert 1 == 1"
   ]
  },
  {
   "cell_type": "code",
   "execution_count": null,
   "metadata": {},
   "outputs": [],
   "source": [
    "#|export\n",
    "def _mk_query(node_id):\n",
    "    query = \"\"\"mutation MyMutation {{\n",
    "        enablePullRequestAutoMerge(input: {{pullRequestId: \"{}\", mergeMethod: MERGE}}) {{\n",
    "            clientMutationId\n",
    "             }}\n",
    "    }}\n",
    "    \"\"\".format(pr.node_id)\n",
    "    return {'query': query}"
   ]
  },
  {
   "cell_type": "code",
   "execution_count": null,
   "metadata": {},
   "outputs": [],
   "source": [
    "#|export\n",
    "def _get_query(owner,repo,pull_number):\n",
    "    return _mk_query(get_id(owner,repo,pull_number))"
   ]
  },
  {
   "cell_type": "code",
   "execution_count": null,
   "metadata": {},
   "outputs": [],
   "source": [
    "#|export\n",
    "@call_parse\n",
    "def merge_pr(owner,repo,pull_number):\n",
    "    token = os.getenv('GITHUB_TOKEN')\n",
    "    assert token, 'You must set the GITHUB_TOKEN'\n",
    "    query = _get_query(owner,repo,pull_number)\n",
    "    headers = {'Authorization': f'Bearer {token}'}\n",
    "    return requests.post(url=\"https://api.github.com/graphql\",\n",
    "              json={'query': query}, headers=headers)"
   ]
  },
  {
   "cell_type": "code",
   "execution_count": null,
   "metadata": {},
   "outputs": [],
   "source": []
  }
 ],
 "metadata": {
  "kernelspec": {
   "display_name": "python3",
   "language": "python",
   "name": "python3"
  }
 },
 "nbformat": 4,
 "nbformat_minor": 4
}
